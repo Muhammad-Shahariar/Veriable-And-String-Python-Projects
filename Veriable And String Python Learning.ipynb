{
 "cells": [
  {
   "cell_type": "markdown",
   "id": "048e795b",
   "metadata": {},
   "source": [
    "# # Global And Local Veriable"
   ]
  },
  {
   "cell_type": "code",
   "execution_count": 1,
   "id": "fad60d4f",
   "metadata": {},
   "outputs": [
    {
     "name": "stdout",
     "output_type": "stream",
     "text": [
      "my number is :  50\n"
     ]
    }
   ],
   "source": [
    "x = 2220 #global Varibale\n",
    "\n",
    "def func1():\n",
    "    x = 50 #Local Veriable\n",
    "    print('my number is : ',x)\n",
    "func1()\n"
   ]
  },
  {
   "cell_type": "code",
   "execution_count": 2,
   "id": "2894d6ed",
   "metadata": {},
   "outputs": [
    {
     "name": "stdout",
     "output_type": "stream",
     "text": [
      "Local Number is :  50\n",
      "Global Number is :  50\n"
     ]
    }
   ],
   "source": [
    "def func1():\n",
    "    global x\n",
    "    x = 50 #Local Veriable\n",
    "    print('Local Number is : ',x)\n",
    "func1()\n",
    "print('Global Number is : ',x)"
   ]
  },
  {
   "cell_type": "code",
   "execution_count": 3,
   "id": "35437182",
   "metadata": {},
   "outputs": [
    {
     "name": "stdout",
     "output_type": "stream",
     "text": [
      "my number is :  50\n",
      "my number is :  50\n"
     ]
    }
   ],
   "source": [
    "def func1():\n",
    "    x = 50 #Local Veriable\n",
    "    print('my number is : ',x)\n",
    "func1()\n",
    "print('my number is : ',x)"
   ]
  },
  {
   "cell_type": "markdown",
   "id": "e82bff89",
   "metadata": {},
   "source": [
    "# Id, Lenth,Size,Type String"
   ]
  },
  {
   "cell_type": "code",
   "execution_count": 4,
   "id": "69edf4c5",
   "metadata": {},
   "outputs": [],
   "source": [
    "ver = 'Data Science'"
   ]
  },
  {
   "cell_type": "code",
   "execution_count": 5,
   "id": "acc4b361",
   "metadata": {},
   "outputs": [
    {
     "data": {
      "text/plain": [
       "488944716848"
      ]
     },
     "execution_count": 5,
     "metadata": {},
     "output_type": "execute_result"
    }
   ],
   "source": [
    "id(ver) #Know Id"
   ]
  },
  {
   "cell_type": "code",
   "execution_count": 6,
   "id": "ee11765a",
   "metadata": {},
   "outputs": [
    {
     "data": {
      "text/plain": [
       "61"
      ]
     },
     "execution_count": 6,
     "metadata": {},
     "output_type": "execute_result"
    }
   ],
   "source": [
    "import sys #Size Count \n",
    "sys.getsizeof(ver)"
   ]
  },
  {
   "cell_type": "code",
   "execution_count": 7,
   "id": "780a09c9",
   "metadata": {},
   "outputs": [
    {
     "data": {
      "text/plain": [
       "12"
      ]
     },
     "execution_count": 7,
     "metadata": {},
     "output_type": "execute_result"
    }
   ],
   "source": [
    "len(ver) #Lenth "
   ]
  },
  {
   "cell_type": "code",
   "execution_count": 8,
   "id": "fcb37bf7",
   "metadata": {},
   "outputs": [
    {
     "data": {
      "text/plain": [
       "str"
      ]
     },
     "execution_count": 8,
     "metadata": {},
     "output_type": "execute_result"
    }
   ],
   "source": [
    "type(ver) #Type"
   ]
  },
  {
   "cell_type": "markdown",
   "id": "da5e5d30",
   "metadata": {},
   "source": [
    "# Input type, Change Type"
   ]
  },
  {
   "cell_type": "code",
   "execution_count": 9,
   "id": "0806f0b7",
   "metadata": {},
   "outputs": [
    {
     "name": "stdout",
     "output_type": "stream",
     "text": [
      "Enter Your Number Here : 33\n",
      "Enter Your Number Here : 33\n"
     ]
    }
   ],
   "source": [
    "x = float(input('Enter Your Number Here : '))\n",
    "y = float(input('Enter Your Number Here : '))"
   ]
  },
  {
   "cell_type": "code",
   "execution_count": 10,
   "id": "0ed208ef",
   "metadata": {},
   "outputs": [
    {
     "name": "stdout",
     "output_type": "stream",
     "text": [
      "Enter Your number Here :33\n"
     ]
    }
   ],
   "source": [
    "s = float(input('Enter Your number Here :'))"
   ]
  },
  {
   "cell_type": "code",
   "execution_count": 11,
   "id": "55c4230b",
   "metadata": {},
   "outputs": [
    {
     "data": {
      "text/plain": [
       "66.0"
      ]
     },
     "execution_count": 11,
     "metadata": {},
     "output_type": "execute_result"
    }
   ],
   "source": [
    "x+y"
   ]
  },
  {
   "cell_type": "code",
   "execution_count": 12,
   "id": "47dafa14",
   "metadata": {},
   "outputs": [
    {
     "name": "stdout",
     "output_type": "stream",
     "text": [
      "33\n"
     ]
    }
   ],
   "source": [
    "z = float()\n",
    "\n",
    "z = input()"
   ]
  },
  {
   "cell_type": "markdown",
   "id": "bccdc048",
   "metadata": {},
   "source": [
    "# All String Works "
   ]
  },
  {
   "cell_type": "code",
   "execution_count": 13,
   "id": "1bd09237",
   "metadata": {},
   "outputs": [],
   "source": [
    "ver = 'This Is New Projects'"
   ]
  },
  {
   "cell_type": "code",
   "execution_count": 14,
   "id": "b5aec7b0",
   "metadata": {},
   "outputs": [
    {
     "data": {
      "text/plain": [
       "1"
      ]
     },
     "execution_count": 14,
     "metadata": {},
     "output_type": "execute_result"
    }
   ],
   "source": [
    "ver.count('Is')"
   ]
  },
  {
   "cell_type": "markdown",
   "id": "e61e1834",
   "metadata": {},
   "source": [
    "# Another Way"
   ]
  },
  {
   "cell_type": "code",
   "execution_count": 15,
   "id": "63968bb6",
   "metadata": {},
   "outputs": [],
   "source": [
    "sub = 'New'"
   ]
  },
  {
   "cell_type": "code",
   "execution_count": 16,
   "id": "62d8f5ea",
   "metadata": {},
   "outputs": [
    {
     "data": {
      "text/plain": [
       "1"
      ]
     },
     "execution_count": 16,
     "metadata": {},
     "output_type": "execute_result"
    }
   ],
   "source": [
    "ver.count(sub)"
   ]
  },
  {
   "cell_type": "markdown",
   "id": "385dd0cd",
   "metadata": {},
   "source": [
    "*Find "
   ]
  },
  {
   "cell_type": "code",
   "execution_count": 17,
   "id": "bdd2182f",
   "metadata": {},
   "outputs": [
    {
     "data": {
      "text/plain": [
       "5"
      ]
     },
     "execution_count": 17,
     "metadata": {},
     "output_type": "execute_result"
    }
   ],
   "source": [
    "ver = 'This Is New Projects'\n",
    "ver.find('Is') #Find Value from String"
   ]
  },
  {
   "cell_type": "markdown",
   "id": "84b58f03",
   "metadata": {},
   "source": [
    "Upper Case And Lower Case\n"
   ]
  },
  {
   "cell_type": "code",
   "execution_count": 18,
   "id": "b1b5862a",
   "metadata": {},
   "outputs": [],
   "source": [
    "ver = 'This is new projects'"
   ]
  },
  {
   "cell_type": "code",
   "execution_count": 19,
   "id": "1cead1bd",
   "metadata": {},
   "outputs": [
    {
     "data": {
      "text/plain": [
       "'this is new projects'"
      ]
     },
     "execution_count": 19,
     "metadata": {},
     "output_type": "execute_result"
    }
   ],
   "source": [
    "ver.lower() #Convert All Carrecter Into Lower Case"
   ]
  },
  {
   "cell_type": "code",
   "execution_count": 20,
   "id": "a2d48a33",
   "metadata": {},
   "outputs": [
    {
     "data": {
      "text/plain": [
       "'THIS IS NEW PROJECTS'"
      ]
     },
     "execution_count": 20,
     "metadata": {},
     "output_type": "execute_result"
    }
   ],
   "source": [
    "ver.upper() #Convert All Carrecter Into Upper Case"
   ]
  },
  {
   "cell_type": "code",
   "execution_count": 21,
   "id": "c143691b",
   "metadata": {},
   "outputs": [
    {
     "data": {
      "text/plain": [
       "'This is new projects'"
      ]
     },
     "execution_count": 21,
     "metadata": {},
     "output_type": "execute_result"
    }
   ],
   "source": [
    "ver.capitalize() #Convert Only Frist Carrecter Into Upper Case"
   ]
  },
  {
   "cell_type": "code",
   "execution_count": 22,
   "id": "ee375c68",
   "metadata": {},
   "outputs": [
    {
     "data": {
      "text/plain": [
       "'tHIS IS NEW PROJECTS'"
      ]
     },
     "execution_count": 22,
     "metadata": {},
     "output_type": "execute_result"
    }
   ],
   "source": [
    "ver.swapcase() #Convert Low/Upper And Upper/Low Carrecter Into Upper Case"
   ]
  },
  {
   "cell_type": "code",
   "execution_count": 23,
   "id": "cb33b676",
   "metadata": {},
   "outputs": [
    {
     "data": {
      "text/plain": [
       "'This Is New Projects'"
      ]
     },
     "execution_count": 23,
     "metadata": {},
     "output_type": "execute_result"
    }
   ],
   "source": [
    "ver.title() #Convert All Frist Carrecter Into Upper Case"
   ]
  },
  {
   "cell_type": "code",
   "execution_count": 24,
   "id": "79c00ff1",
   "metadata": {},
   "outputs": [
    {
     "data": {
      "text/plain": [
       "['This', 'is', 'new', 'projects']"
      ]
     },
     "execution_count": 24,
     "metadata": {},
     "output_type": "execute_result"
    }
   ],
   "source": [
    "ver.split() #Split All Word From the Sentence."
   ]
  },
  {
   "cell_type": "code",
   "execution_count": 25,
   "id": "1717bd95",
   "metadata": {},
   "outputs": [
    {
     "data": {
      "text/plain": [
       "'This'"
      ]
     },
     "execution_count": 25,
     "metadata": {},
     "output_type": "execute_result"
    }
   ],
   "source": [
    "ver.split()[0] #Jump Any Splited Word."
   ]
  },
  {
   "cell_type": "code",
   "execution_count": 26,
   "id": "bff6a52f",
   "metadata": {},
   "outputs": [
    {
     "data": {
      "text/plain": [
       "'is'"
      ]
     },
     "execution_count": 26,
     "metadata": {},
     "output_type": "execute_result"
    }
   ],
   "source": [
    "ver.split()[1] #Jump Any Splited Word."
   ]
  },
  {
   "cell_type": "code",
   "execution_count": 27,
   "id": "52deee4f",
   "metadata": {},
   "outputs": [
    {
     "data": {
      "text/plain": [
       "b'This is new projects'"
      ]
     },
     "execution_count": 27,
     "metadata": {},
     "output_type": "execute_result"
    }
   ],
   "source": [
    "ver.encode() #For Encoded"
   ]
  },
  {
   "cell_type": "code",
   "execution_count": 28,
   "id": "4466e688",
   "metadata": {},
   "outputs": [
    {
     "data": {
      "text/plain": [
       "bytes"
      ]
     },
     "execution_count": 28,
     "metadata": {},
     "output_type": "execute_result"
    }
   ],
   "source": [
    "type(ver.encode())"
   ]
  },
  {
   "cell_type": "code",
   "execution_count": 29,
   "id": "5b65c2a7",
   "metadata": {},
   "outputs": [
    {
     "data": {
      "text/plain": [
       "'                              This is new projects                              '"
      ]
     },
     "execution_count": 29,
     "metadata": {},
     "output_type": "execute_result"
    }
   ],
   "source": [
    "ver.center(80)"
   ]
  },
  {
   "cell_type": "code",
   "execution_count": 30,
   "id": "25c39f64",
   "metadata": {},
   "outputs": [
    {
     "data": {
      "text/plain": [
       "'This is new projects'"
      ]
     },
     "execution_count": 30,
     "metadata": {},
     "output_type": "execute_result"
    }
   ],
   "source": [
    "ver.replace('Is', 'of')"
   ]
  },
  {
   "cell_type": "markdown",
   "id": "51d1777b",
   "metadata": {},
   "source": [
    "# Format Function Works"
   ]
  },
  {
   "cell_type": "code",
   "execution_count": 39,
   "id": "1412dc2c",
   "metadata": {},
   "outputs": [
    {
     "name": "stdout",
     "output_type": "stream",
     "text": [
      "I have  114.2256 Taka\n"
     ]
    }
   ],
   "source": [
    "x = 10.60\n",
    "y = 10.776\n",
    "z = x*y\n",
    "\n",
    "print('I have ',z, 'Taka')"
   ]
  },
  {
   "cell_type": "markdown",
   "id": "db1c4f21",
   "metadata": {},
   "source": [
    "Another Option"
   ]
  },
  {
   "cell_type": "code",
   "execution_count": 41,
   "id": "97c2f7a9",
   "metadata": {},
   "outputs": [
    {
     "name": "stdout",
     "output_type": "stream",
     "text": [
      "I have 114.2256 Taka\n"
     ]
    }
   ],
   "source": [
    "print('I have {} Taka'.format(z))"
   ]
  }
 ],
 "metadata": {
  "kernelspec": {
   "display_name": "Python 3 (ipykernel)",
   "language": "python",
   "name": "python3"
  },
  "language_info": {
   "codemirror_mode": {
    "name": "ipython",
    "version": 3
   },
   "file_extension": ".py",
   "mimetype": "text/x-python",
   "name": "python",
   "nbconvert_exporter": "python",
   "pygments_lexer": "ipython3",
   "version": "3.9.7"
  }
 },
 "nbformat": 4,
 "nbformat_minor": 5
}
